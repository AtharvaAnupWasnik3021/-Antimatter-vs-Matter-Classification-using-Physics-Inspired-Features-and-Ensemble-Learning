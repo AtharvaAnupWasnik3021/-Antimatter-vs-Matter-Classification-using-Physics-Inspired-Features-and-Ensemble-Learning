{
  "nbformat": 4,
  "nbformat_minor": 0,
  "metadata": {
    "colab": {
      "provenance": [],
      "authorship_tag": "ABX9TyPiQ2+1CpvKKEs3fM7lfEhO",
      "include_colab_link": true
    },
    "kernelspec": {
      "name": "python3",
      "display_name": "Python 3"
    },
    "language_info": {
      "name": "python"
    }
  },
  "cells": [
    {
      "cell_type": "markdown",
      "metadata": {
        "id": "view-in-github",
        "colab_type": "text"
      },
      "source": [
        "<a href=\"https://colab.research.google.com/github/AtharvaAnupWasnik3021/-Antimatter-vs-Matter-Classification-using-Physics-Inspired-Features-and-Ensemble-Learning/blob/main/MLLab5.ipynb\" target=\"_parent\"><img src=\"https://colab.research.google.com/assets/colab-badge.svg\" alt=\"Open In Colab\"/></a>"
      ]
    },
    {
      "cell_type": "code",
      "execution_count": null,
      "metadata": {
        "colab": {
          "base_uri": "https://localhost:8080/"
        },
        "id": "2PVrRBoJuOhP",
        "outputId": "8bb47465-c736-47a2-9d57-904690cd704c"
      },
      "outputs": [
        {
          "output_type": "stream",
          "name": "stdout",
          "text": [
            "AUG-5 2025  LAB 5 \n",
            "ATHARVA ANUP WASNIK\n"
          ]
        }
      ],
      "source": [
        "print(\"AUG-5 2025  LAB 5 \")\n",
        "print(\"ATHARVA ANUP WASNIK\")"
      ]
    },
    {
      "cell_type": "code",
      "source": [
        "#A1. If your project deals with a regression problem, please use one attribute of your dataset\n",
        "#(X_train) along with the target values (y_train) for training a linear regression model. Sample code\n",
        "#suggested below.\n",
        "#from sklearn.linear_model import LinearRegression\n",
        "#reg = LinearRegression().fit(X_train, y_train)\n",
        "##y_train_pred = reg.predict(X_train)\n",
        "#(P.S.: If your project deals with a classification or clustering problem, please consider one of the\n",
        "#attributes with numerical values as target values.)\n",
        "import pandas as pd\n",
        "from sklearn.linear_model import LinearRegression\n",
        "# dataset\n",
        "df = pd.read_csv('Wmunu.csv')\n",
        "X_train = df[['pt']]  # taking transverse momentum\n",
        "y_train = df['dxy']  #impact parameter\n",
        "reg = LinearRegression().fit(X_train, y_train)\n",
        "y_train_pred = reg.predict(X_train)\n",
        "print(\"Slope:\", reg.coef_[0])\n",
        "print(\"Intercept:\", reg.intercept_)\n",
        "print(\"First 5 predicted values:\", y_train_pred[:5])"
      ],
      "metadata": {
        "colab": {
          "base_uri": "https://localhost:8080/"
        },
        "id": "D5ZSWPHjufd0",
        "outputId": "6c021baa-3af4-43a6-d6a8-e51692adc32c"
      },
      "execution_count": null,
      "outputs": [
        {
          "output_type": "stream",
          "name": "stdout",
          "text": [
            "Slope: 4.965864178762749e-06\n",
            "Intercept: -0.0184708588955953\n",
            "First 5 predicted values: [-0.01832528 -0.01825164 -0.01825837 -0.01831582 -0.01828729]\n"
          ]
        }
      ]
    },
    {
      "cell_type": "code",
      "source": [
        "#A2. Calculate MSE, RMSE, MAPE and R2 scores for prediction made by the trained model in A1.\n",
        "#Perform prediction on the test data and compare the metric values between train and test set.\n",
        "import pandas as pd\n",
        "from sklearn.linear_model import LinearRegression\n",
        "from sklearn.model_selection import train_test_split\n",
        "from sklearn.metrics import mean_squared_error, mean_absolute_percentage_error, r2_score\n",
        "import numpy as np\n",
        "df = pd.read_csv('Wmunu.csv')\n",
        "X = df[['pt']]       # Feature\n",
        "y = df['iso']        # Target\n",
        "X_train, X_test, y_train, y_test = train_test_split(X, y, test_size=0.2, random_state=42)\n",
        "reg = LinearRegression().fit(X_train, y_train)\n",
        "y_train_pred = reg.predict(X_train)\n",
        "y_test_pred = reg.predict(X_test)\n",
        "# Training metrics\n",
        "mse_train = mean_squared_error(y_train, y_train_pred)\n",
        "rmse_train = np.sqrt(mse_train)\n",
        "mape_train = mean_absolute_percentage_error(y_train, y_train_pred)\n",
        "r2_train = r2_score(y_train, y_train_pred)\n",
        "# Testing metrics\n",
        "mse_test = mean_squared_error(y_test, y_test_pred)\n",
        "rmse_test = np.sqrt(mse_test)\n",
        "mape_test = mean_absolute_percentage_error(y_test, y_test_pred)\n",
        "r2_test = r2_score(y_test, y_test_pred)\n",
        "# Step 7: Print results\n",
        "print(\"=== Training Set Metrics ===\")\n",
        "print(f\"MSE:  {mse_train:.6f}\")\n",
        "print(f\"RMSE: {rmse_train:.6f}\")\n",
        "print(f\"MAPE: {mape_train:.6f}\")\n",
        "print(f\"R²:   {r2_train:.6f}\")\n",
        "\n",
        "print(\"\\n=== Testing Set Metrics ===\")\n",
        "print(f\"MSE:  {mse_test:.6f}\")\n",
        "print(f\"RMSE: {rmse_test:.6f}\")\n",
        "print(f\"MAPE: {mape_test:.6f}\")\n",
        "print(f\"R²:   {r2_test:.6f}\")"
      ],
      "metadata": {
        "colab": {
          "base_uri": "https://localhost:8080/"
        },
        "id": "kNfA_n2FxKVC",
        "outputId": "940f047d-2133-4d77-cf91-0972357b17b4"
      },
      "execution_count": null,
      "outputs": [
        {
          "output_type": "stream",
          "name": "stdout",
          "text": [
            "=== Training Set Metrics ===\n",
            "MSE:  8705.202736\n",
            "RMSE: 93.301676\n",
            "MAPE: 9101515769786028.000000\n",
            "R²:   0.000066\n",
            "\n",
            "=== Testing Set Metrics ===\n",
            "MSE:  806.841989\n",
            "RMSE: 28.404964\n",
            "MAPE: 9449764687053236.000000\n",
            "R²:   0.000142\n"
          ]
        }
      ]
    },
    {
      "cell_type": "code",
      "source": [
        "#Repeat the exercises A1 and A2 with more than one attribute or all attributes.\n",
        "import pandas as pd\n",
        "from sklearn.linear_model import LinearRegression\n",
        "from sklearn.model_selection import train_test_split\n",
        "from sklearn.metrics import mean_squared_error, mean_absolute_percentage_error, r2_score\n",
        "import numpy as np\n",
        "df = pd.read_csv('Wmunu.csv')\n",
        "X = df[['pt', 'eta', 'phi', 'chiSq', 'dxy', 'MET', 'phiMET']]  # You can also add 'iso' if not using it as target\n",
        "y = df['iso']  # Still using 'iso' as dummy regression target\n",
        "X_train, X_test, y_train, y_test = train_test_split(X, y, test_size=0.2, random_state=42)\n",
        "reg = LinearRegression().fit(X_train, y_train)\n",
        "y_train_pred = reg.predict(X_train)\n",
        "y_test_pred = reg.predict(X_test)\n",
        "mse_train = mean_squared_error(y_train, y_train_pred)\n",
        "rmse_train = np.sqrt(mse_train)\n",
        "mape_train = mean_absolute_percentage_error(y_train, y_train_pred)\n",
        "r2_train = r2_score(y_train, y_train_pred)\n",
        "mse_test = mean_squared_error(y_test, y_test_pred)\n",
        "rmse_test = np.sqrt(mse_test)\n",
        "mape_test = mean_absolute_percentage_error(y_test, y_test_pred)\n",
        "r2_test = r2_score(y_test, y_test_pred)\n",
        "print(\"=== Training Set Metrics ===\")\n",
        "print(f\"MSE:  {mse_train:.6f}\")\n",
        "print(f\"RMSE: {rmse_train:.6f}\")\n",
        "print(f\"MAPE: {mape_train:.6f}\")\n",
        "print(f\"R²:   {r2_train:.6f}\")\n",
        "print(\"\\n=== Testing Set Metrics ===\")\n",
        "print(f\"MSE:  {mse_test:.6f}\")\n",
        "print(f\"RMSE: {rmse_test:.6f}\")\n",
        "print(f\"MAPE: {mape_test:.6f}\")\n",
        "print(f\"R²:   {r2_test:.6f}\")"
      ],
      "metadata": {
        "colab": {
          "base_uri": "https://localhost:8080/"
        },
        "id": "XEI19GlGxiWL",
        "outputId": "d2545d1f-8155-447d-c673-408617e4e7bd"
      },
      "execution_count": null,
      "outputs": [
        {
          "output_type": "stream",
          "name": "stdout",
          "text": [
            "=== Training Set Metrics ===\n",
            "MSE:  8674.261506\n",
            "RMSE: 93.135716\n",
            "MAPE: 7790605246112768.000000\n",
            "R²:   0.003620\n",
            "\n",
            "=== Testing Set Metrics ===\n",
            "MSE:  780.826631\n",
            "RMSE: 27.943275\n",
            "MAPE: 7982689565234697.000000\n",
            "R²:   0.032381\n"
          ]
        }
      ]
    }
  ]
}